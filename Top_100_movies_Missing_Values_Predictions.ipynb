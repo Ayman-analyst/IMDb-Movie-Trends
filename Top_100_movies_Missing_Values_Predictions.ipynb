{
  "nbformat": 4,
  "nbformat_minor": 0,
  "metadata": {
    "colab": {
      "provenance": [],
      "mount_file_id": "1Q6Rs_Bzud_T2tZjYbRwhf3DdD6qV1k_Y",
      "authorship_tag": "ABX9TyPz7tx5860Dbt9oERxwOkXK",
      "include_colab_link": true
    },
    "kernelspec": {
      "name": "python3",
      "display_name": "Python 3"
    },
    "language_info": {
      "name": "python"
    }
  },
  "cells": [
    {
      "cell_type": "markdown",
      "metadata": {
        "id": "view-in-github",
        "colab_type": "text"
      },
      "source": [
        "<a href=\"https://colab.research.google.com/github/Ayman-analyst/IMDb-Movie-Trends/blob/main/Top_100_movies_Missing_Values_Predictions.ipynb\" target=\"_parent\"><img src=\"https://colab.research.google.com/assets/colab-badge.svg\" alt=\"Open In Colab\"/></a>"
      ]
    },
    {
      "cell_type": "markdown",
      "source": [
        "# **Predict Gross**"
      ],
      "metadata": {
        "id": "Ui-9XQ47BCdv"
      }
    },
    {
      "cell_type": "code",
      "source": [
        "import pandas as pd\n",
        "from sklearn.feature_extraction.text import TfidfVectorizer\n",
        "from sklearn.compose import ColumnTransformer\n",
        "from sklearn.pipeline import Pipeline\n",
        "from sklearn.linear_model import LinearRegression\n",
        "from sklearn.preprocessing import StandardScaler"
      ],
      "metadata": {
        "id": "dpd-qb1SmFfe"
      },
      "execution_count": null,
      "outputs": []
    },
    {
      "cell_type": "code",
      "source": [
        "# Load the data\n",
        "df = pd.read_excel('/content/drive/MyDrive/Predict Gross.xlsx')"
      ],
      "metadata": {
        "id": "nWZ4O_CFmIdH"
      },
      "execution_count": null,
      "outputs": []
    },
    {
      "cell_type": "code",
      "source": [
        "# Define columns\n",
        "text_columns = ['Genre', 'Overview', 'Director', 'Star1', 'Star2', 'Star3', 'Star4']\n",
        "numeric_columns = ['Released_Date', 'IMDB_Rating', 'Meta_Score' ,'No_of_Votes']"
      ],
      "metadata": {
        "id": "7bMpQIy3mNiQ"
      },
      "execution_count": null,
      "outputs": []
    },
    {
      "cell_type": "code",
      "source": [
        "# Column transformer\n",
        "preprocessor = ColumnTransformer(\n",
        "    transformers=[\n",
        "        *[(col, TfidfVectorizer(), col) for col in text_columns],\n",
        "        ('num', StandardScaler(), numeric_columns)\n",
        "    ]\n",
        ")"
      ],
      "metadata": {
        "id": "BeGc-zPgsU0J"
      },
      "execution_count": null,
      "outputs": []
    },
    {
      "cell_type": "code",
      "source": [
        "# Pipeline\n",
        "model = Pipeline(steps=[\n",
        "    ('preprocess', preprocessor),\n",
        "    ('regressor', LinearRegression())\n",
        "])"
      ],
      "metadata": {
        "id": "ZHbynY-KMuYl"
      },
      "execution_count": null,
      "outputs": []
    },
    {
      "cell_type": "code",
      "source": [
        "# Fit the model\n",
        "model.fit(df[text_columns + numeric_columns], df['Gross'])\n",
        "\n",
        "# Predict\n",
        "predictions = model.predict(df[text_columns + numeric_columns])"
      ],
      "metadata": {
        "id": "VCuSaIMls8LU"
      },
      "execution_count": null,
      "outputs": []
    },
    {
      "cell_type": "code",
      "source": [
        "new_movie_Gross = pd.DataFrame([{\n",
        "    'Genre': 'Drama, Fantasy, Horror',\n",
        "    'Overview': \"A mythological story about a goddess who created the entire universe. The plot revolves around the consequences when humans build a temple for her first-born.\",\n",
        "    'Director': 'Rahi Anil Barve',\n",
        "    'Star1': 'Anand Gandhi',\n",
        "    'Star2': 'Adesh Prasad',\n",
        "    'Star3': 'Sohum Shah',\n",
        "    'Star4': 'Jyoti Malshe',\n",
        "    'Released_Date': 2018,\n",
        "    'IMDB_Rating': 8.3,\n",
        "    'No_of_Votes': 27793,\n",
        "    'Meta_Score': 73\n",
        "}])"
      ],
      "metadata": {
        "id": "BpszcLL6Myp-"
      },
      "execution_count": null,
      "outputs": []
    },
    {
      "cell_type": "code",
      "source": [
        "predicted_score = model.predict(new_movie_Gross)\n",
        "print(\"Predicted Gross\", predicted_score[0])"
      ],
      "metadata": {
        "colab": {
          "base_uri": "https://localhost:8080/"
        },
        "id": "kIrNIqHkNAsr",
        "outputId": "86d6c441-83d3-4007-8a08-02c39cf0e7b5"
      },
      "execution_count": null,
      "outputs": [
        {
          "output_type": "stream",
          "name": "stdout",
          "text": [
            "Predicted Gross 57609503.67215599\n"
          ]
        }
      ]
    },
    {
      "cell_type": "markdown",
      "source": [
        "# **Predict Meta_Score**"
      ],
      "metadata": {
        "id": "LhHaOyArBLFi"
      }
    },
    {
      "cell_type": "code",
      "source": [
        "# Load the data\n",
        "df1 = pd.read_excel('/content/drive/MyDrive/Predict Meta_Score.xlsx')"
      ],
      "metadata": {
        "id": "giv5JaaBBiGr"
      },
      "execution_count": null,
      "outputs": []
    },
    {
      "cell_type": "code",
      "source": [
        "# Define columns\n",
        "text_columns = ['Genre', 'Overview', 'Director', 'Star1', 'Star2', 'Star3', 'Star4']\n",
        "numeric_columns = ['Released_Date', 'IMDB_Rating','No_of_Votes', 'Gross']"
      ],
      "metadata": {
        "id": "vQoieTBGCz2v"
      },
      "execution_count": null,
      "outputs": []
    },
    {
      "cell_type": "code",
      "source": [
        "# Column transformer\n",
        "preprocessor = ColumnTransformer(\n",
        "    transformers=[\n",
        "        *[(col, TfidfVectorizer(), col) for col in text_columns],\n",
        "        ('num', StandardScaler(), numeric_columns)\n",
        "    ]\n",
        ")"
      ],
      "metadata": {
        "id": "TY4KzDjxC9ZI"
      },
      "execution_count": null,
      "outputs": []
    },
    {
      "cell_type": "code",
      "source": [
        "# Pipeline\n",
        "model = Pipeline(steps=[\n",
        "    ('preprocess', preprocessor),\n",
        "    ('regressor', LinearRegression())\n",
        "])"
      ],
      "metadata": {
        "id": "X1O5LvK-C9Vs"
      },
      "execution_count": null,
      "outputs": []
    },
    {
      "cell_type": "code",
      "source": [
        "# Fit the model\n",
        "model.fit(df[text_columns + numeric_columns], df['Meta_Score'])\n",
        "\n",
        "# Predict\n",
        "predictions = model.predict(df[text_columns + numeric_columns])"
      ],
      "metadata": {
        "id": "EfOUmH64C9Tb"
      },
      "execution_count": null,
      "outputs": []
    },
    {
      "cell_type": "code",
      "source": [
        "new_movie_Meta_Score = pd.DataFrame([{\n",
        "\n",
        "    'Genre': 'Drama, Family',\n",
        "    'Overview': \"The family of a left-wing journalist is torn apart after the military coup of Turkey in 1980.\",\n",
        "    'Director': 'Çagan Irmak',\n",
        "    'Star1': 'Çetin Tekindor',\n",
        "    'Star2': 'Fikret Kuskan',\n",
        "    'Star3': 'Hümeyra',\n",
        "    'Star4': 'Ege Tanman',\n",
        "    'Released_Date': 2005,\n",
        "    'IMDB_Rating': 8.3,\n",
        "    'No_of_Votes': 33935,\n",
        "    'Gross': 18612999\n",
        "}])"
      ],
      "metadata": {
        "id": "9u-cce-BC9Qx"
      },
      "execution_count": null,
      "outputs": []
    },
    {
      "cell_type": "code",
      "source": [
        "predicted_score = model.predict(new_movie_Meta_Score)\n",
        "print(\"Predicted Meta_Score\", predicted_score[0])"
      ],
      "metadata": {
        "colab": {
          "base_uri": "https://localhost:8080/"
        },
        "id": "IVb3_VhgDWfT",
        "outputId": "5d404f9a-4c9e-4c81-850f-a832a149ecc1"
      },
      "execution_count": null,
      "outputs": [
        {
          "output_type": "stream",
          "name": "stdout",
          "text": [
            "Predicted Meta_Score 80.90104825407425\n"
          ]
        }
      ]
    }
  ]
}